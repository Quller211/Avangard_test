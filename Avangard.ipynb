{
 "cells": [
  {
   "cell_type": "code",
   "execution_count": 132,
   "metadata": {},
   "outputs": [],
   "source": [
    "import pandas as pd\n",
    "import seaborn as sns\n",
    "import numpy as np\n",
    "from scipy.stats import normaltest"
   ]
  },
  {
   "cell_type": "code",
   "execution_count": 133,
   "metadata": {},
   "outputs": [],
   "source": [
    "sns.set_theme(\n",
    "    rc={'figure.figsize':(20,10)}\n",
    "        )"
   ]
  },
  {
   "cell_type": "code",
   "execution_count": 134,
   "metadata": {},
   "outputs": [
    {
     "data": {
      "text/html": [
       "<div>\n",
       "<style scoped>\n",
       "    .dataframe tbody tr th:only-of-type {\n",
       "        vertical-align: middle;\n",
       "    }\n",
       "\n",
       "    .dataframe tbody tr th {\n",
       "        vertical-align: top;\n",
       "    }\n",
       "\n",
       "    .dataframe thead th {\n",
       "        text-align: right;\n",
       "    }\n",
       "</style>\n",
       "<table border=\"1\" class=\"dataframe\">\n",
       "  <thead>\n",
       "    <tr style=\"text-align: right;\">\n",
       "      <th></th>\n",
       "      <th>ID</th>\n",
       "      <th>Order Date</th>\n",
       "      <th>Class</th>\n",
       "      <th>Region</th>\n",
       "      <th>Sub-Category</th>\n",
       "      <th>Sales</th>\n",
       "    </tr>\n",
       "  </thead>\n",
       "  <tbody>\n",
       "    <tr>\n",
       "      <th>0</th>\n",
       "      <td>646</td>\n",
       "      <td>30/12/2018</td>\n",
       "      <td>Стандарт</td>\n",
       "      <td>Урал</td>\n",
       "      <td>Appliances</td>\n",
       "      <td>37229,08</td>\n",
       "    </tr>\n",
       "    <tr>\n",
       "      <th>1</th>\n",
       "      <td>907</td>\n",
       "      <td>30/12/2018</td>\n",
       "      <td>Стандарт</td>\n",
       "      <td>Владивосток</td>\n",
       "      <td>Bookcases</td>\n",
       "      <td>20994,61</td>\n",
       "    </tr>\n",
       "    <tr>\n",
       "      <th>2</th>\n",
       "      <td>908</td>\n",
       "      <td>30/12/2018</td>\n",
       "      <td>Стандарт</td>\n",
       "      <td>Владивосток</td>\n",
       "      <td>Phones</td>\n",
       "      <td>42133,86</td>\n",
       "    </tr>\n",
       "    <tr>\n",
       "      <th>3</th>\n",
       "      <td>909</td>\n",
       "      <td>30/12/2018</td>\n",
       "      <td>Стандарт</td>\n",
       "      <td>Владивосток</td>\n",
       "      <td>Binders</td>\n",
       "      <td>10612</td>\n",
       "    </tr>\n",
       "    <tr>\n",
       "      <th>4</th>\n",
       "      <td>1297</td>\n",
       "      <td>30/12/2018</td>\n",
       "      <td>Стандарт</td>\n",
       "      <td>Калиниград</td>\n",
       "      <td>Binders</td>\n",
       "      <td>28781,13</td>\n",
       "    </tr>\n",
       "    <tr>\n",
       "      <th>...</th>\n",
       "      <td>...</td>\n",
       "      <td>...</td>\n",
       "      <td>...</td>\n",
       "      <td>...</td>\n",
       "      <td>...</td>\n",
       "      <td>...</td>\n",
       "    </tr>\n",
       "    <tr>\n",
       "      <th>9795</th>\n",
       "      <td>1760</td>\n",
       "      <td>05/01/2015</td>\n",
       "      <td>Стандарт</td>\n",
       "      <td>Владивосток</td>\n",
       "      <td>Art</td>\n",
       "      <td>8639,472</td>\n",
       "    </tr>\n",
       "    <tr>\n",
       "      <th>9796</th>\n",
       "      <td>740</td>\n",
       "      <td>04/01/2015</td>\n",
       "      <td>Стандарт</td>\n",
       "      <td>Урал</td>\n",
       "      <td>Labels</td>\n",
       "      <td>15246,05</td>\n",
       "    </tr>\n",
       "    <tr>\n",
       "      <th>9797</th>\n",
       "      <td>741</td>\n",
       "      <td>04/01/2015</td>\n",
       "      <td>Стандарт</td>\n",
       "      <td>Урал</td>\n",
       "      <td>Storage</td>\n",
       "      <td>20415,81</td>\n",
       "    </tr>\n",
       "    <tr>\n",
       "      <th>9798</th>\n",
       "      <td>742</td>\n",
       "      <td>04/01/2015</td>\n",
       "      <td>Стандарт</td>\n",
       "      <td>Урал</td>\n",
       "      <td>Binders</td>\n",
       "      <td>4559,085</td>\n",
       "    </tr>\n",
       "    <tr>\n",
       "      <th>9799</th>\n",
       "      <td>7981</td>\n",
       "      <td>03/01/2015</td>\n",
       "      <td>Стандарт</td>\n",
       "      <td>Урал</td>\n",
       "      <td>Paper</td>\n",
       "      <td>11726,47</td>\n",
       "    </tr>\n",
       "  </tbody>\n",
       "</table>\n",
       "<p>9800 rows × 6 columns</p>\n",
       "</div>"
      ],
      "text/plain": [
       "        ID  Order Date     Class       Region Sub-Category     Sales\n",
       "0      646  30/12/2018  Стандарт         Урал   Appliances  37229,08\n",
       "1      907  30/12/2018  Стандарт  Владивосток    Bookcases  20994,61\n",
       "2      908  30/12/2018  Стандарт  Владивосток       Phones  42133,86\n",
       "3      909  30/12/2018  Стандарт  Владивосток      Binders     10612\n",
       "4     1297  30/12/2018  Стандарт   Калиниград      Binders  28781,13\n",
       "...    ...         ...       ...          ...          ...       ...\n",
       "9795  1760  05/01/2015  Стандарт  Владивосток          Art  8639,472\n",
       "9796   740  04/01/2015  Стандарт         Урал       Labels  15246,05\n",
       "9797   741  04/01/2015  Стандарт         Урал      Storage  20415,81\n",
       "9798   742  04/01/2015  Стандарт         Урал      Binders  4559,085\n",
       "9799  7981  03/01/2015  Стандарт         Урал        Paper  11726,47\n",
       "\n",
       "[9800 rows x 6 columns]"
      ]
     },
     "execution_count": 134,
     "metadata": {},
     "output_type": "execute_result"
    }
   ],
   "source": [
    "df = pd.read_csv(\"train - train.csv\")\n",
    "df"
   ]
  },
  {
   "cell_type": "markdown",
   "metadata": {},
   "source": [
    "Хочу обратить внимание, что столбец Sales может показывать либо количество продаж, либо сумму продаж. Ни в том, ни в другом случае после запятой не может быть три цифры. Так как данных много, будем считать подобные строки аномалиями и не будем их учитывать. Sales - сумма продаж"
   ]
  },
  {
   "cell_type": "code",
   "execution_count": 135,
   "metadata": {},
   "outputs": [
    {
     "data": {
      "text/html": [
       "<div>\n",
       "<style scoped>\n",
       "    .dataframe tbody tr th:only-of-type {\n",
       "        vertical-align: middle;\n",
       "    }\n",
       "\n",
       "    .dataframe tbody tr th {\n",
       "        vertical-align: top;\n",
       "    }\n",
       "\n",
       "    .dataframe thead th {\n",
       "        text-align: right;\n",
       "    }\n",
       "</style>\n",
       "<table border=\"1\" class=\"dataframe\">\n",
       "  <thead>\n",
       "    <tr style=\"text-align: right;\">\n",
       "      <th></th>\n",
       "      <th>ID</th>\n",
       "      <th>Order Date</th>\n",
       "      <th>Class</th>\n",
       "      <th>Region</th>\n",
       "      <th>Sub-Category</th>\n",
       "      <th>Sales</th>\n",
       "      <th>anomaly</th>\n",
       "    </tr>\n",
       "  </thead>\n",
       "  <tbody>\n",
       "    <tr>\n",
       "      <th>0</th>\n",
       "      <td>646</td>\n",
       "      <td>30/12/2018</td>\n",
       "      <td>Стандарт</td>\n",
       "      <td>Урал</td>\n",
       "      <td>Appliances</td>\n",
       "      <td>37229,08</td>\n",
       "      <td>,</td>\n",
       "    </tr>\n",
       "    <tr>\n",
       "      <th>1</th>\n",
       "      <td>907</td>\n",
       "      <td>30/12/2018</td>\n",
       "      <td>Стандарт</td>\n",
       "      <td>Владивосток</td>\n",
       "      <td>Bookcases</td>\n",
       "      <td>20994,61</td>\n",
       "      <td>,</td>\n",
       "    </tr>\n",
       "    <tr>\n",
       "      <th>2</th>\n",
       "      <td>908</td>\n",
       "      <td>30/12/2018</td>\n",
       "      <td>Стандарт</td>\n",
       "      <td>Владивосток</td>\n",
       "      <td>Phones</td>\n",
       "      <td>42133,86</td>\n",
       "      <td>,</td>\n",
       "    </tr>\n",
       "    <tr>\n",
       "      <th>4</th>\n",
       "      <td>1297</td>\n",
       "      <td>30/12/2018</td>\n",
       "      <td>Стандарт</td>\n",
       "      <td>Калиниград</td>\n",
       "      <td>Binders</td>\n",
       "      <td>28781,13</td>\n",
       "      <td>,</td>\n",
       "    </tr>\n",
       "    <tr>\n",
       "      <th>6</th>\n",
       "      <td>5092</td>\n",
       "      <td>30/12/2018</td>\n",
       "      <td>Стандарт</td>\n",
       "      <td>Калиниград</td>\n",
       "      <td>Fasteners</td>\n",
       "      <td>42478,36</td>\n",
       "      <td>,</td>\n",
       "    </tr>\n",
       "    <tr>\n",
       "      <th>...</th>\n",
       "      <td>...</td>\n",
       "      <td>...</td>\n",
       "      <td>...</td>\n",
       "      <td>...</td>\n",
       "      <td>...</td>\n",
       "      <td>...</td>\n",
       "      <td>...</td>\n",
       "    </tr>\n",
       "    <tr>\n",
       "      <th>9793</th>\n",
       "      <td>7480</td>\n",
       "      <td>06/01/2015</td>\n",
       "      <td>Стандарт</td>\n",
       "      <td>Москва</td>\n",
       "      <td>Fasteners</td>\n",
       "      <td>19856,51</td>\n",
       "      <td>,</td>\n",
       "    </tr>\n",
       "    <tr>\n",
       "      <th>9794</th>\n",
       "      <td>7481</td>\n",
       "      <td>06/01/2015</td>\n",
       "      <td>Стандарт</td>\n",
       "      <td>Москва</td>\n",
       "      <td>Paper</td>\n",
       "      <td>31250,09</td>\n",
       "      <td>,</td>\n",
       "    </tr>\n",
       "    <tr>\n",
       "      <th>9796</th>\n",
       "      <td>740</td>\n",
       "      <td>04/01/2015</td>\n",
       "      <td>Стандарт</td>\n",
       "      <td>Урал</td>\n",
       "      <td>Labels</td>\n",
       "      <td>15246,05</td>\n",
       "      <td>,</td>\n",
       "    </tr>\n",
       "    <tr>\n",
       "      <th>9797</th>\n",
       "      <td>741</td>\n",
       "      <td>04/01/2015</td>\n",
       "      <td>Стандарт</td>\n",
       "      <td>Урал</td>\n",
       "      <td>Storage</td>\n",
       "      <td>20415,81</td>\n",
       "      <td>,</td>\n",
       "    </tr>\n",
       "    <tr>\n",
       "      <th>9799</th>\n",
       "      <td>7981</td>\n",
       "      <td>03/01/2015</td>\n",
       "      <td>Стандарт</td>\n",
       "      <td>Урал</td>\n",
       "      <td>Paper</td>\n",
       "      <td>11726,47</td>\n",
       "      <td>,</td>\n",
       "    </tr>\n",
       "  </tbody>\n",
       "</table>\n",
       "<p>7292 rows × 7 columns</p>\n",
       "</div>"
      ],
      "text/plain": [
       "        ID  Order Date     Class       Region Sub-Category     Sales anomaly\n",
       "0      646  30/12/2018  Стандарт         Урал   Appliances  37229,08       ,\n",
       "1      907  30/12/2018  Стандарт  Владивосток    Bookcases  20994,61       ,\n",
       "2      908  30/12/2018  Стандарт  Владивосток       Phones  42133,86       ,\n",
       "4     1297  30/12/2018  Стандарт   Калиниград      Binders  28781,13       ,\n",
       "6     5092  30/12/2018  Стандарт   Калиниград    Fasteners  42478,36       ,\n",
       "...    ...         ...       ...          ...          ...       ...     ...\n",
       "9793  7480  06/01/2015  Стандарт       Москва    Fasteners  19856,51       ,\n",
       "9794  7481  06/01/2015  Стандарт       Москва        Paper  31250,09       ,\n",
       "9796   740  04/01/2015  Стандарт         Урал       Labels  15246,05       ,\n",
       "9797   741  04/01/2015  Стандарт         Урал      Storage  20415,81       ,\n",
       "9799  7981  03/01/2015  Стандарт         Урал        Paper  11726,47       ,\n",
       "\n",
       "[7292 rows x 7 columns]"
      ]
     },
     "execution_count": 135,
     "metadata": {},
     "output_type": "execute_result"
    }
   ],
   "source": [
    "df['anomaly'] = df['Sales'].apply(lambda x: x[-3])\n",
    "df = df[df.anomaly == ',']\n",
    "df"
   ]
  },
  {
   "cell_type": "code",
   "execution_count": 136,
   "metadata": {},
   "outputs": [
    {
     "name": "stderr",
     "output_type": "stream",
     "text": [
      "C:\\Users\\Admin\\AppData\\Local\\Temp\\ipykernel_15232\\3213075772.py:1: UserWarning: Parsing dates in %d/%m/%Y format when dayfirst=False (the default) was specified. Pass `dayfirst=True` or specify a format to silence this warning.\n",
      "  df['Order Date'] = pd.to_datetime(df['Order Date'])\n",
      "C:\\Users\\Admin\\AppData\\Local\\Temp\\ipykernel_15232\\3213075772.py:1: SettingWithCopyWarning: \n",
      "A value is trying to be set on a copy of a slice from a DataFrame.\n",
      "Try using .loc[row_indexer,col_indexer] = value instead\n",
      "\n",
      "See the caveats in the documentation: https://pandas.pydata.org/pandas-docs/stable/user_guide/indexing.html#returning-a-view-versus-a-copy\n",
      "  df['Order Date'] = pd.to_datetime(df['Order Date'])\n",
      "C:\\Users\\Admin\\AppData\\Local\\Temp\\ipykernel_15232\\3213075772.py:2: SettingWithCopyWarning: \n",
      "A value is trying to be set on a copy of a slice from a DataFrame.\n",
      "Try using .loc[row_indexer,col_indexer] = value instead\n",
      "\n",
      "See the caveats in the documentation: https://pandas.pydata.org/pandas-docs/stable/user_guide/indexing.html#returning-a-view-versus-a-copy\n",
      "  df['Sales'] = df['Sales'].apply(lambda x: x.replace(',', '.')).astype(float)\n"
     ]
    },
    {
     "data": {
      "text/plain": [
       "ID                       int64\n",
       "Order Date      datetime64[ns]\n",
       "Class                   object\n",
       "Region                  object\n",
       "Sub-Category            object\n",
       "Sales                  float64\n",
       "anomaly                 object\n",
       "dtype: object"
      ]
     },
     "execution_count": 136,
     "metadata": {},
     "output_type": "execute_result"
    }
   ],
   "source": [
    "df['Order Date'] = pd.to_datetime(df['Order Date'])\n",
    "df['Sales'] = df['Sales'].apply(lambda x: x.replace(',', '.')).astype(float)\n",
    "df.dtypes\n",
    "# Перевод колонок в нужный формат"
   ]
  },
  {
   "cell_type": "code",
   "execution_count": 137,
   "metadata": {},
   "outputs": [
    {
     "data": {
      "text/html": [
       "<div>\n",
       "<style scoped>\n",
       "    .dataframe tbody tr th:only-of-type {\n",
       "        vertical-align: middle;\n",
       "    }\n",
       "\n",
       "    .dataframe tbody tr th {\n",
       "        vertical-align: top;\n",
       "    }\n",
       "\n",
       "    .dataframe thead th {\n",
       "        text-align: right;\n",
       "    }\n",
       "</style>\n",
       "<table border=\"1\" class=\"dataframe\">\n",
       "  <thead>\n",
       "    <tr style=\"text-align: right;\">\n",
       "      <th></th>\n",
       "      <th>Sub-Category</th>\n",
       "      <th>count_of_sales</th>\n",
       "    </tr>\n",
       "  </thead>\n",
       "  <tbody>\n",
       "    <tr>\n",
       "      <th>3</th>\n",
       "      <td>Binders</td>\n",
       "      <td>1082</td>\n",
       "    </tr>\n",
       "    <tr>\n",
       "      <th>12</th>\n",
       "      <td>Paper</td>\n",
       "      <td>999</td>\n",
       "    </tr>\n",
       "    <tr>\n",
       "      <th>9</th>\n",
       "      <td>Furnishings</td>\n",
       "      <td>718</td>\n",
       "    </tr>\n",
       "    <tr>\n",
       "      <th>13</th>\n",
       "      <td>Phones</td>\n",
       "      <td>673</td>\n",
       "    </tr>\n",
       "    <tr>\n",
       "      <th>14</th>\n",
       "      <td>Storage</td>\n",
       "      <td>621</td>\n",
       "    </tr>\n",
       "    <tr>\n",
       "      <th>2</th>\n",
       "      <td>Art</td>\n",
       "      <td>589</td>\n",
       "    </tr>\n",
       "    <tr>\n",
       "      <th>0</th>\n",
       "      <td>Accessories</td>\n",
       "      <td>557</td>\n",
       "    </tr>\n",
       "    <tr>\n",
       "      <th>5</th>\n",
       "      <td>Chairs</td>\n",
       "      <td>458</td>\n",
       "    </tr>\n",
       "    <tr>\n",
       "      <th>1</th>\n",
       "      <td>Appliances</td>\n",
       "      <td>326</td>\n",
       "    </tr>\n",
       "    <tr>\n",
       "      <th>10</th>\n",
       "      <td>Labels</td>\n",
       "      <td>264</td>\n",
       "    </tr>\n",
       "    <tr>\n",
       "      <th>16</th>\n",
       "      <td>Tables</td>\n",
       "      <td>227</td>\n",
       "    </tr>\n",
       "    <tr>\n",
       "      <th>7</th>\n",
       "      <td>Envelopes</td>\n",
       "      <td>184</td>\n",
       "    </tr>\n",
       "    <tr>\n",
       "      <th>4</th>\n",
       "      <td>Bookcases</td>\n",
       "      <td>172</td>\n",
       "    </tr>\n",
       "    <tr>\n",
       "      <th>8</th>\n",
       "      <td>Fasteners</td>\n",
       "      <td>150</td>\n",
       "    </tr>\n",
       "    <tr>\n",
       "      <th>15</th>\n",
       "      <td>Supplies</td>\n",
       "      <td>141</td>\n",
       "    </tr>\n",
       "    <tr>\n",
       "      <th>11</th>\n",
       "      <td>Machines</td>\n",
       "      <td>82</td>\n",
       "    </tr>\n",
       "    <tr>\n",
       "      <th>6</th>\n",
       "      <td>Copiers</td>\n",
       "      <td>49</td>\n",
       "    </tr>\n",
       "  </tbody>\n",
       "</table>\n",
       "</div>"
      ],
      "text/plain": [
       "   Sub-Category  count_of_sales\n",
       "3       Binders            1082\n",
       "12        Paper             999\n",
       "9   Furnishings             718\n",
       "13       Phones             673\n",
       "14      Storage             621\n",
       "2           Art             589\n",
       "0   Accessories             557\n",
       "5        Chairs             458\n",
       "1    Appliances             326\n",
       "10       Labels             264\n",
       "16       Tables             227\n",
       "7     Envelopes             184\n",
       "4     Bookcases             172\n",
       "8     Fasteners             150\n",
       "15     Supplies             141\n",
       "11     Machines              82\n",
       "6       Copiers              49"
      ]
     },
     "execution_count": 137,
     "metadata": {},
     "output_type": "execute_result"
    }
   ],
   "source": [
    "all_time_popular_sub_category = df.groupby('Sub-Category', as_index = False).agg({'ID': 'count'}) \\\n",
    "                                    .sort_values('ID', ascending = False) \\\n",
    "                                    .rename(columns = {'ID': 'count_of_sales'})\n",
    "all_time_popular_sub_category"
   ]
  },
  {
   "cell_type": "code",
   "execution_count": 138,
   "metadata": {},
   "outputs": [
    {
     "data": {
      "text/plain": [
       "<Axes: xlabel='Sub-Category', ylabel='count_of_sales'>"
      ]
     },
     "execution_count": 138,
     "metadata": {},
     "output_type": "execute_result"
    },
    {
     "data": {
      "image/png": "[encoded data removed]",
      "text/plain": [
       "<Figure size 2000x1000 with 1 Axes>"
      ]
     },
     "metadata": {},
     "output_type": "display_data"
    }
   ],
   "source": [
    "sns.barplot(data = all_time_popular_sub_category.head(10), x = 'Sub-Category', y = 'count_of_sales')"
   ]
  },
  {
   "cell_type": "markdown",
   "metadata": {},
   "source": [
    "Задание 1 (а)\n",
    "\n",
    "Наиболее популярные подгруппы по количеству продаж за все время: Binders, Paper, Furnishings, Phones, Storage"
   ]
  },
  {
   "cell_type": "code",
   "execution_count": null,
   "metadata": {},
   "outputs": [],
   "source": []
  },
  {
   "cell_type": "code",
   "execution_count": 139,
   "metadata": {},
   "outputs": [
    {
     "data": {
      "text/plain": [
       "Timestamp('2018-12-30 00:00:00')"
      ]
     },
     "execution_count": 139,
     "metadata": {},
     "output_type": "execute_result"
    }
   ],
   "source": [
    "df['Order Date'].max()"
   ]
  },
  {
   "cell_type": "code",
   "execution_count": 140,
   "metadata": {},
   "outputs": [
    {
     "data": {
      "text/html": [
       "<div>\n",
       "<style scoped>\n",
       "    .dataframe tbody tr th:only-of-type {\n",
       "        vertical-align: middle;\n",
       "    }\n",
       "\n",
       "    .dataframe tbody tr th {\n",
       "        vertical-align: top;\n",
       "    }\n",
       "\n",
       "    .dataframe thead th {\n",
       "        text-align: right;\n",
       "    }\n",
       "</style>\n",
       "<table border=\"1\" class=\"dataframe\">\n",
       "  <thead>\n",
       "    <tr style=\"text-align: right;\">\n",
       "      <th></th>\n",
       "      <th>Sub-Category</th>\n",
       "      <th>count_of_sales</th>\n",
       "    </tr>\n",
       "  </thead>\n",
       "  <tbody>\n",
       "    <tr>\n",
       "      <th>3</th>\n",
       "      <td>Binders</td>\n",
       "      <td>664</td>\n",
       "    </tr>\n",
       "    <tr>\n",
       "      <th>12</th>\n",
       "      <td>Paper</td>\n",
       "      <td>619</td>\n",
       "    </tr>\n",
       "    <tr>\n",
       "      <th>9</th>\n",
       "      <td>Furnishings</td>\n",
       "      <td>421</td>\n",
       "    </tr>\n",
       "    <tr>\n",
       "      <th>13</th>\n",
       "      <td>Phones</td>\n",
       "      <td>395</td>\n",
       "    </tr>\n",
       "    <tr>\n",
       "      <th>14</th>\n",
       "      <td>Storage</td>\n",
       "      <td>365</td>\n",
       "    </tr>\n",
       "    <tr>\n",
       "      <th>2</th>\n",
       "      <td>Art</td>\n",
       "      <td>345</td>\n",
       "    </tr>\n",
       "    <tr>\n",
       "      <th>0</th>\n",
       "      <td>Accessories</td>\n",
       "      <td>323</td>\n",
       "    </tr>\n",
       "    <tr>\n",
       "      <th>5</th>\n",
       "      <td>Chairs</td>\n",
       "      <td>267</td>\n",
       "    </tr>\n",
       "    <tr>\n",
       "      <th>1</th>\n",
       "      <td>Appliances</td>\n",
       "      <td>190</td>\n",
       "    </tr>\n",
       "    <tr>\n",
       "      <th>10</th>\n",
       "      <td>Labels</td>\n",
       "      <td>163</td>\n",
       "    </tr>\n",
       "    <tr>\n",
       "      <th>16</th>\n",
       "      <td>Tables</td>\n",
       "      <td>137</td>\n",
       "    </tr>\n",
       "    <tr>\n",
       "      <th>7</th>\n",
       "      <td>Envelopes</td>\n",
       "      <td>102</td>\n",
       "    </tr>\n",
       "    <tr>\n",
       "      <th>4</th>\n",
       "      <td>Bookcases</td>\n",
       "      <td>92</td>\n",
       "    </tr>\n",
       "    <tr>\n",
       "      <th>15</th>\n",
       "      <td>Supplies</td>\n",
       "      <td>92</td>\n",
       "    </tr>\n",
       "    <tr>\n",
       "      <th>8</th>\n",
       "      <td>Fasteners</td>\n",
       "      <td>86</td>\n",
       "    </tr>\n",
       "    <tr>\n",
       "      <th>11</th>\n",
       "      <td>Machines</td>\n",
       "      <td>48</td>\n",
       "    </tr>\n",
       "    <tr>\n",
       "      <th>6</th>\n",
       "      <td>Copiers</td>\n",
       "      <td>27</td>\n",
       "    </tr>\n",
       "  </tbody>\n",
       "</table>\n",
       "</div>"
      ],
      "text/plain": [
       "   Sub-Category  count_of_sales\n",
       "3       Binders             664\n",
       "12        Paper             619\n",
       "9   Furnishings             421\n",
       "13       Phones             395\n",
       "14      Storage             365\n",
       "2           Art             345\n",
       "0   Accessories             323\n",
       "5        Chairs             267\n",
       "1    Appliances             190\n",
       "10       Labels             163\n",
       "16       Tables             137\n",
       "7     Envelopes             102\n",
       "4     Bookcases              92\n",
       "15     Supplies              92\n",
       "8     Fasteners              86\n",
       "11     Machines              48\n",
       "6       Copiers              27"
      ]
     },
     "execution_count": 140,
     "metadata": {},
     "output_type": "execute_result"
    }
   ],
   "source": [
    "last_two_years_popular_sub_category = df[(df['Order Date'] <= df['Order Date'].max()) & (df['Order Date'] >= df['Order Date'].max() - pd.tseries.offsets.DateOffset(years = 2))] \\\n",
    "                                    .groupby('Sub-Category', as_index = False).agg({'ID': 'count'}) \\\n",
    "                                    .sort_values('ID', ascending = False) \\\n",
    "                                    .rename(columns = {'ID': 'count_of_sales'})\n",
    "last_two_years_popular_sub_category"
   ]
  },
  {
   "cell_type": "code",
   "execution_count": 141,
   "metadata": {},
   "outputs": [
    {
     "data": {
      "text/plain": [
       "<Axes: xlabel='Sub-Category', ylabel='count_of_sales'>"
      ]
     },
     "execution_count": 141,
     "metadata": {},
     "output_type": "execute_result"
    },
    {
     "data": {
      "image/png": "[encoded data removed]",
      "text/plain": [
       "<Figure size 2000x1000 with 1 Axes>"
      ]
     },
     "metadata": {},
     "output_type": "display_data"
    }
   ],
   "source": [
    "sns.barplot(data = last_two_years_popular_sub_category.head(10), x = 'Sub-Category', y = 'count_of_sales')"
   ]
  },
  {
   "cell_type": "markdown",
   "metadata": {},
   "source": [
    "Задание 1 (б)\n",
    "\n",
    "Наиболее популярные подгруппы по количеству продаж за последние два года: Binders, Paper, Furnishings, Phones, Storage"
   ]
  },
  {
   "cell_type": "code",
   "execution_count": 142,
   "metadata": {},
   "outputs": [
    {
     "data": {
      "text/html": [
       "<div>\n",
       "<style scoped>\n",
       "    .dataframe tbody tr th:only-of-type {\n",
       "        vertical-align: middle;\n",
       "    }\n",
       "\n",
       "    .dataframe tbody tr th {\n",
       "        vertical-align: top;\n",
       "    }\n",
       "\n",
       "    .dataframe thead th {\n",
       "        text-align: right;\n",
       "    }\n",
       "</style>\n",
       "<table border=\"1\" class=\"dataframe\">\n",
       "  <thead>\n",
       "    <tr style=\"text-align: right;\">\n",
       "      <th></th>\n",
       "      <th>Sub-Category</th>\n",
       "      <th>count_of_sales</th>\n",
       "    </tr>\n",
       "  </thead>\n",
       "  <tbody>\n",
       "    <tr>\n",
       "      <th>3</th>\n",
       "      <td>Binders</td>\n",
       "      <td>379</td>\n",
       "    </tr>\n",
       "    <tr>\n",
       "      <th>12</th>\n",
       "      <td>Paper</td>\n",
       "      <td>347</td>\n",
       "    </tr>\n",
       "    <tr>\n",
       "      <th>9</th>\n",
       "      <td>Furnishings</td>\n",
       "      <td>248</td>\n",
       "    </tr>\n",
       "    <tr>\n",
       "      <th>13</th>\n",
       "      <td>Phones</td>\n",
       "      <td>223</td>\n",
       "    </tr>\n",
       "    <tr>\n",
       "      <th>2</th>\n",
       "      <td>Art</td>\n",
       "      <td>214</td>\n",
       "    </tr>\n",
       "    <tr>\n",
       "      <th>14</th>\n",
       "      <td>Storage</td>\n",
       "      <td>201</td>\n",
       "    </tr>\n",
       "    <tr>\n",
       "      <th>0</th>\n",
       "      <td>Accessories</td>\n",
       "      <td>193</td>\n",
       "    </tr>\n",
       "    <tr>\n",
       "      <th>5</th>\n",
       "      <td>Chairs</td>\n",
       "      <td>146</td>\n",
       "    </tr>\n",
       "    <tr>\n",
       "      <th>1</th>\n",
       "      <td>Appliances</td>\n",
       "      <td>109</td>\n",
       "    </tr>\n",
       "    <tr>\n",
       "      <th>10</th>\n",
       "      <td>Labels</td>\n",
       "      <td>90</td>\n",
       "    </tr>\n",
       "    <tr>\n",
       "      <th>16</th>\n",
       "      <td>Tables</td>\n",
       "      <td>74</td>\n",
       "    </tr>\n",
       "    <tr>\n",
       "      <th>7</th>\n",
       "      <td>Envelopes</td>\n",
       "      <td>54</td>\n",
       "    </tr>\n",
       "    <tr>\n",
       "      <th>4</th>\n",
       "      <td>Bookcases</td>\n",
       "      <td>53</td>\n",
       "    </tr>\n",
       "    <tr>\n",
       "      <th>15</th>\n",
       "      <td>Supplies</td>\n",
       "      <td>48</td>\n",
       "    </tr>\n",
       "    <tr>\n",
       "      <th>8</th>\n",
       "      <td>Fasteners</td>\n",
       "      <td>47</td>\n",
       "    </tr>\n",
       "    <tr>\n",
       "      <th>11</th>\n",
       "      <td>Machines</td>\n",
       "      <td>20</td>\n",
       "    </tr>\n",
       "    <tr>\n",
       "      <th>6</th>\n",
       "      <td>Copiers</td>\n",
       "      <td>16</td>\n",
       "    </tr>\n",
       "  </tbody>\n",
       "</table>\n",
       "</div>"
      ],
      "text/plain": [
       "   Sub-Category  count_of_sales\n",
       "3       Binders             379\n",
       "12        Paper             347\n",
       "9   Furnishings             248\n",
       "13       Phones             223\n",
       "2           Art             214\n",
       "14      Storage             201\n",
       "0   Accessories             193\n",
       "5        Chairs             146\n",
       "1    Appliances             109\n",
       "10       Labels              90\n",
       "16       Tables              74\n",
       "7     Envelopes              54\n",
       "4     Bookcases              53\n",
       "15     Supplies              48\n",
       "8     Fasteners              47\n",
       "11     Machines              20\n",
       "6       Copiers              16"
      ]
     },
     "execution_count": 142,
     "metadata": {},
     "output_type": "execute_result"
    }
   ],
   "source": [
    "last_year_popular_sub_category = df[(df['Order Date'] <= df['Order Date'].max()) & (df['Order Date'] >= df['Order Date'].max() - pd.tseries.offsets.DateOffset(years = 1))] \\\n",
    "                                    .groupby('Sub-Category', as_index = False).agg({'ID': 'count'}) \\\n",
    "                                    .sort_values('ID', ascending = False) \\\n",
    "                                    .rename(columns = {'ID': 'count_of_sales'})\n",
    "last_year_popular_sub_category"
   ]
  },
  {
   "cell_type": "code",
   "execution_count": 143,
   "metadata": {},
   "outputs": [
    {
     "data": {
      "text/plain": [
       "<Axes: xlabel='Sub-Category', ylabel='count_of_sales'>"
      ]
     },
     "execution_count": 143,
     "metadata": {},
     "output_type": "execute_result"
    },
    {
     "data": {
      "image/png": "[encoded data removed]",
      "text/plain": [
       "<Figure size 2000x1000 with 1 Axes>"
      ]
     },
     "metadata": {},
     "output_type": "display_data"
    }
   ],
   "source": [
    "sns.barplot(data = last_year_popular_sub_category.head(10), x = 'Sub-Category', y = 'count_of_sales')"
   ]
  },
  {
   "cell_type": "markdown",
   "metadata": {},
   "source": [
    "Задание 1 (в)\n",
    "\n",
    "Наиболее популярные подгруппы по количеству продаж за последний год: Binders, Paper, Furnishings, Phones, Art"
   ]
  },
  {
   "cell_type": "markdown",
   "metadata": {},
   "source": [
    "Долгое время лидеры по продажам были неизменными. Но в последний год Art вошел в топ 5 лидеров сменив Storage."
   ]
  },
  {
   "cell_type": "code",
   "execution_count": null,
   "metadata": {},
   "outputs": [],
   "source": []
  },
  {
   "cell_type": "code",
   "execution_count": 144,
   "metadata": {},
   "outputs": [
    {
     "data": {
      "text/plain": [
       "<seaborn.axisgrid.FacetGrid at 0x174f84d22d0>"
      ]
     },
     "execution_count": 144,
     "metadata": {},
     "output_type": "execute_result"
    },
    {
     "data": {
      "image/png": "[encoded data removed]",
      "text/plain": [
       "<Figure size 500x500 with 1 Axes>"
      ]
     },
     "metadata": {},
     "output_type": "display_data"
    }
   ],
   "source": [
    "sns.displot(df.Sales)"
   ]
  },
  {
   "cell_type": "code",
   "execution_count": 145,
   "metadata": {},
   "outputs": [
    {
     "data": {
      "text/plain": [
       "NormaltestResult(statistic=1864.467990369187, pvalue=0.0)"
      ]
     },
     "execution_count": 145,
     "metadata": {},
     "output_type": "execute_result"
    }
   ],
   "source": [
    "normaltest(df.Sales)\n",
    "# Распределение ненормально"
   ]
  },
  {
   "cell_type": "code",
   "execution_count": 150,
   "metadata": {},
   "outputs": [
    {
     "data": {
      "text/plain": [
       "<Axes: ylabel='Sales'>"
      ]
     },
     "execution_count": 150,
     "metadata": {},
     "output_type": "execute_result"
    },
    {
     "data": {
      "image/png": "[encoded data removed]",
      "text/plain": [
       "<Figure size 2000x1000 with 1 Axes>"
      ]
     },
     "metadata": {},
     "output_type": "display_data"
    }
   ],
   "source": [
    "sns.boxplot(data = df, y = 'Sales')"
   ]
  },
  {
   "cell_type": "code",
   "execution_count": 152,
   "metadata": {},
   "outputs": [],
   "source": [
    "quantiles = df['Sales'].quantile([.025, .975]).to_list()\n",
    "# Так как у нас отсутсвуют выбросы, для ответа на второе задание возьмем только данные которые соответсвуют 95%му довериткльному интервалу"
   ]
  },
  {
   "cell_type": "code",
   "execution_count": 158,
   "metadata": {},
   "outputs": [
    {
     "data": {
      "text/plain": [
       "<Axes: ylabel='Sales'>"
      ]
     },
     "execution_count": 158,
     "metadata": {},
     "output_type": "execute_result"
    },
    {
     "data": {
      "image/png": "[encoded data removed]",
      "text/plain": [
       "<Figure size 2000x1000 with 1 Axes>"
      ]
     },
     "metadata": {},
     "output_type": "display_data"
    }
   ],
   "source": [
    "sns.boxplot(data = df[(df.Sales < quantiles[1]) & (df.Sales > quantiles[0])], y = df[(df.Sales < quantiles[1]) & (df.Sales > quantiles[0])].Sales)"
   ]
  },
  {
   "cell_type": "code",
   "execution_count": 156,
   "metadata": {},
   "outputs": [
    {
     "data": {
      "text/plain": [
       "26824.35413803061"
      ]
     },
     "execution_count": 156,
     "metadata": {},
     "output_type": "execute_result"
    }
   ],
   "source": [
    "df[(df.Sales < quantiles[1]) & (df.Sales > quantiles[0])].Sales.mean()"
   ]
  },
  {
   "cell_type": "markdown",
   "metadata": {},
   "source": [
    "Задание 2\n",
    "\n",
    "Аномалий, помимо той, которую я описал вначале, больше не обнаружено, впрочем, как и выбросов. С учетом этого для выявление более точной картины были взяты те продажи, сумма которых входит в 95% всех продаж"
   ]
  },
  {
   "cell_type": "code",
   "execution_count": null,
   "metadata": {},
   "outputs": [],
   "source": []
  },
  {
   "cell_type": "code",
   "execution_count": 159,
   "metadata": {},
   "outputs": [
    {
     "data": {
      "text/plain": [
       "[20876.5064, 32392.386599999998]"
      ]
     },
     "execution_count": 159,
     "metadata": {},
     "output_type": "execute_result"
    }
   ],
   "source": [
    "quantiles = df['Sales'].quantile([.33, .66]).to_list()\n",
    "quantiles\n",
    "# Для равного разбиения на три группы (маленькие продажи, средние продажы, высокие продажи) берем два процентиля 33% и 66%"
   ]
  },
  {
   "cell_type": "code",
   "execution_count": 181,
   "metadata": {},
   "outputs": [
    {
     "name": "stderr",
     "output_type": "stream",
     "text": [
      "C:\\Users\\Admin\\AppData\\Local\\Temp\\ipykernel_15232\\1234738244.py:1: SettingWithCopyWarning: \n",
      "A value is trying to be set on a copy of a slice from a DataFrame.\n",
      "Try using .loc[row_indexer,col_indexer] = value instead\n",
      "\n",
      "See the caveats in the documentation: https://pandas.pydata.org/pandas-docs/stable/user_guide/indexing.html#returning-a-view-versus-a-copy\n",
      "  df['Sales_group'] = ['Маленькие продажи' if i < quantiles[0] \\\n"
     ]
    }
   ],
   "source": [
    "df['Sales_group'] = ['Маленькие продажи' if i < quantiles[0] \\\n",
    "                        else 'Средние продажи' if i > quantiles[0] and i < quantiles[1] \\\n",
    "                        else 'Высокие продажи' if i > quantiles[1] \\\n",
    "                        else 'NaN' for i in df.Sales]"
   ]
  },
  {
   "cell_type": "code",
   "execution_count": 182,
   "metadata": {},
   "outputs": [
    {
     "data": {
      "text/html": [
       "<div>\n",
       "<style scoped>\n",
       "    .dataframe tbody tr th:only-of-type {\n",
       "        vertical-align: middle;\n",
       "    }\n",
       "\n",
       "    .dataframe tbody tr th {\n",
       "        vertical-align: top;\n",
       "    }\n",
       "\n",
       "    .dataframe thead th {\n",
       "        text-align: right;\n",
       "    }\n",
       "</style>\n",
       "<table border=\"1\" class=\"dataframe\">\n",
       "  <thead>\n",
       "    <tr style=\"text-align: right;\">\n",
       "      <th></th>\n",
       "      <th>ID</th>\n",
       "      <th>Order Date</th>\n",
       "      <th>Class</th>\n",
       "      <th>Region</th>\n",
       "      <th>Sub-Category</th>\n",
       "      <th>Sales</th>\n",
       "      <th>Sales_group</th>\n",
       "    </tr>\n",
       "  </thead>\n",
       "  <tbody>\n",
       "    <tr>\n",
       "      <th>0</th>\n",
       "      <td>646</td>\n",
       "      <td>2018-12-30</td>\n",
       "      <td>Стандарт</td>\n",
       "      <td>Урал</td>\n",
       "      <td>Appliances</td>\n",
       "      <td>37229.08</td>\n",
       "      <td>Высокие продажи</td>\n",
       "    </tr>\n",
       "    <tr>\n",
       "      <th>1</th>\n",
       "      <td>907</td>\n",
       "      <td>2018-12-30</td>\n",
       "      <td>Стандарт</td>\n",
       "      <td>Владивосток</td>\n",
       "      <td>Bookcases</td>\n",
       "      <td>20994.61</td>\n",
       "      <td>Средние продажи</td>\n",
       "    </tr>\n",
       "    <tr>\n",
       "      <th>2</th>\n",
       "      <td>908</td>\n",
       "      <td>2018-12-30</td>\n",
       "      <td>Стандарт</td>\n",
       "      <td>Владивосток</td>\n",
       "      <td>Phones</td>\n",
       "      <td>42133.86</td>\n",
       "      <td>Высокие продажи</td>\n",
       "    </tr>\n",
       "    <tr>\n",
       "      <th>4</th>\n",
       "      <td>1297</td>\n",
       "      <td>2018-12-30</td>\n",
       "      <td>Стандарт</td>\n",
       "      <td>Калиниград</td>\n",
       "      <td>Binders</td>\n",
       "      <td>28781.13</td>\n",
       "      <td>Средние продажи</td>\n",
       "    </tr>\n",
       "    <tr>\n",
       "      <th>6</th>\n",
       "      <td>5092</td>\n",
       "      <td>2018-12-30</td>\n",
       "      <td>Стандарт</td>\n",
       "      <td>Калиниград</td>\n",
       "      <td>Fasteners</td>\n",
       "      <td>42478.36</td>\n",
       "      <td>Высокие продажи</td>\n",
       "    </tr>\n",
       "    <tr>\n",
       "      <th>...</th>\n",
       "      <td>...</td>\n",
       "      <td>...</td>\n",
       "      <td>...</td>\n",
       "      <td>...</td>\n",
       "      <td>...</td>\n",
       "      <td>...</td>\n",
       "      <td>...</td>\n",
       "    </tr>\n",
       "    <tr>\n",
       "      <th>9793</th>\n",
       "      <td>7480</td>\n",
       "      <td>2015-01-06</td>\n",
       "      <td>Стандарт</td>\n",
       "      <td>Москва</td>\n",
       "      <td>Fasteners</td>\n",
       "      <td>19856.51</td>\n",
       "      <td>Маленькие продажи</td>\n",
       "    </tr>\n",
       "    <tr>\n",
       "      <th>9794</th>\n",
       "      <td>7481</td>\n",
       "      <td>2015-01-06</td>\n",
       "      <td>Стандарт</td>\n",
       "      <td>Москва</td>\n",
       "      <td>Paper</td>\n",
       "      <td>31250.09</td>\n",
       "      <td>Средние продажи</td>\n",
       "    </tr>\n",
       "    <tr>\n",
       "      <th>9796</th>\n",
       "      <td>740</td>\n",
       "      <td>2015-01-04</td>\n",
       "      <td>Стандарт</td>\n",
       "      <td>Урал</td>\n",
       "      <td>Labels</td>\n",
       "      <td>15246.05</td>\n",
       "      <td>Маленькие продажи</td>\n",
       "    </tr>\n",
       "    <tr>\n",
       "      <th>9797</th>\n",
       "      <td>741</td>\n",
       "      <td>2015-01-04</td>\n",
       "      <td>Стандарт</td>\n",
       "      <td>Урал</td>\n",
       "      <td>Storage</td>\n",
       "      <td>20415.81</td>\n",
       "      <td>Маленькие продажи</td>\n",
       "    </tr>\n",
       "    <tr>\n",
       "      <th>9799</th>\n",
       "      <td>7981</td>\n",
       "      <td>2015-01-03</td>\n",
       "      <td>Стандарт</td>\n",
       "      <td>Урал</td>\n",
       "      <td>Paper</td>\n",
       "      <td>11726.47</td>\n",
       "      <td>Маленькие продажи</td>\n",
       "    </tr>\n",
       "  </tbody>\n",
       "</table>\n",
       "<p>7292 rows × 7 columns</p>\n",
       "</div>"
      ],
      "text/plain": [
       "        ID Order Date     Class       Region Sub-Category     Sales  \\\n",
       "0      646 2018-12-30  Стандарт         Урал   Appliances  37229.08   \n",
       "1      907 2018-12-30  Стандарт  Владивосток    Bookcases  20994.61   \n",
       "2      908 2018-12-30  Стандарт  Владивосток       Phones  42133.86   \n",
       "4     1297 2018-12-30  Стандарт   Калиниград      Binders  28781.13   \n",
       "6     5092 2018-12-30  Стандарт   Калиниград    Fasteners  42478.36   \n",
       "...    ...        ...       ...          ...          ...       ...   \n",
       "9793  7480 2015-01-06  Стандарт       Москва    Fasteners  19856.51   \n",
       "9794  7481 2015-01-06  Стандарт       Москва        Paper  31250.09   \n",
       "9796   740 2015-01-04  Стандарт         Урал       Labels  15246.05   \n",
       "9797   741 2015-01-04  Стандарт         Урал      Storage  20415.81   \n",
       "9799  7981 2015-01-03  Стандарт         Урал        Paper  11726.47   \n",
       "\n",
       "            Sales_group  \n",
       "0       Высокие продажи  \n",
       "1       Средние продажи  \n",
       "2       Высокие продажи  \n",
       "4       Средние продажи  \n",
       "6       Высокие продажи  \n",
       "...                 ...  \n",
       "9793  Маленькие продажи  \n",
       "9794    Средние продажи  \n",
       "9796  Маленькие продажи  \n",
       "9797  Маленькие продажи  \n",
       "9799  Маленькие продажи  \n",
       "\n",
       "[7292 rows x 7 columns]"
      ]
     },
     "execution_count": 182,
     "metadata": {},
     "output_type": "execute_result"
    }
   ],
   "source": [
    "df_sales_group = df.drop(['anomaly'], axis = 1)\n",
    "df_sales_group"
   ]
  },
  {
   "cell_type": "code",
   "execution_count": 185,
   "metadata": {},
   "outputs": [
    {
     "data": {
      "text/html": [
       "<div>\n",
       "<style scoped>\n",
       "    .dataframe tbody tr th:only-of-type {\n",
       "        vertical-align: middle;\n",
       "    }\n",
       "\n",
       "    .dataframe tbody tr th {\n",
       "        vertical-align: top;\n",
       "    }\n",
       "\n",
       "    .dataframe thead th {\n",
       "        text-align: right;\n",
       "    }\n",
       "</style>\n",
       "<table border=\"1\" class=\"dataframe\">\n",
       "  <thead>\n",
       "    <tr style=\"text-align: right;\">\n",
       "      <th></th>\n",
       "      <th></th>\n",
       "      <th>count_of_sales</th>\n",
       "      <th>Sales</th>\n",
       "    </tr>\n",
       "    <tr>\n",
       "      <th>Region</th>\n",
       "      <th>Sales_group</th>\n",
       "      <th></th>\n",
       "      <th></th>\n",
       "    </tr>\n",
       "  </thead>\n",
       "  <tbody>\n",
       "    <tr>\n",
       "      <th rowspan=\"3\" valign=\"top\">Москва</th>\n",
       "      <th>Средние продажи</th>\n",
       "      <td>382</td>\n",
       "      <td>10091617.57</td>\n",
       "    </tr>\n",
       "    <tr>\n",
       "      <th>Маленькие продажи</th>\n",
       "      <td>385</td>\n",
       "      <td>5565971.46</td>\n",
       "    </tr>\n",
       "    <tr>\n",
       "      <th>Высокие продажи</th>\n",
       "      <td>427</td>\n",
       "      <td>16419778.94</td>\n",
       "    </tr>\n",
       "    <tr>\n",
       "      <th rowspan=\"3\" valign=\"top\">Урал</th>\n",
       "      <th>Высокие продажи</th>\n",
       "      <td>559</td>\n",
       "      <td>21591398.29</td>\n",
       "    </tr>\n",
       "    <tr>\n",
       "      <th>Средние продажи</th>\n",
       "      <td>560</td>\n",
       "      <td>15008356.98</td>\n",
       "    </tr>\n",
       "    <tr>\n",
       "      <th>Маленькие продажи</th>\n",
       "      <td>575</td>\n",
       "      <td>8281593.58</td>\n",
       "    </tr>\n",
       "    <tr>\n",
       "      <th rowspan=\"3\" valign=\"top\">Владивосток</th>\n",
       "      <th>Средние продажи</th>\n",
       "      <td>657</td>\n",
       "      <td>17540062.71</td>\n",
       "    </tr>\n",
       "    <tr>\n",
       "      <th>Маленькие продажи</th>\n",
       "      <td>665</td>\n",
       "      <td>9716598.14</td>\n",
       "    </tr>\n",
       "    <tr>\n",
       "      <th>Высокие продажи</th>\n",
       "      <td>731</td>\n",
       "      <td>28298359.76</td>\n",
       "    </tr>\n",
       "    <tr>\n",
       "      <th rowspan=\"3\" valign=\"top\">Калиниград</th>\n",
       "      <th>Высокие продажи</th>\n",
       "      <td>762</td>\n",
       "      <td>29530616.66</td>\n",
       "    </tr>\n",
       "    <tr>\n",
       "      <th>Маленькие продажи</th>\n",
       "      <td>782</td>\n",
       "      <td>11404360.83</td>\n",
       "    </tr>\n",
       "    <tr>\n",
       "      <th>Средние продажи</th>\n",
       "      <td>807</td>\n",
       "      <td>21377349.59</td>\n",
       "    </tr>\n",
       "  </tbody>\n",
       "</table>\n",
       "</div>"
      ],
      "text/plain": [
       "                               count_of_sales        Sales\n",
       "Region      Sales_group                                   \n",
       "Москва      Средние продажи               382  10091617.57\n",
       "            Маленькие продажи             385   5565971.46\n",
       "            Высокие продажи               427  16419778.94\n",
       "Урал        Высокие продажи               559  21591398.29\n",
       "            Средние продажи               560  15008356.98\n",
       "            Маленькие продажи             575   8281593.58\n",
       "Владивосток Средние продажи               657  17540062.71\n",
       "            Маленькие продажи             665   9716598.14\n",
       "            Высокие продажи               731  28298359.76\n",
       "Калиниград  Высокие продажи               762  29530616.66\n",
       "            Маленькие продажи             782  11404360.83\n",
       "            Средние продажи               807  21377349.59"
      ]
     },
     "execution_count": 185,
     "metadata": {},
     "output_type": "execute_result"
    }
   ],
   "source": [
    "df_sales_group.groupby(['Region', 'Sales_group']).agg({'ID': 'count', 'Sales': 'sum'}).sort_values('ID').rename(columns = {'ID': 'count_of_sales'})"
   ]
  },
  {
   "cell_type": "code",
   "execution_count": 193,
   "metadata": {},
   "outputs": [
    {
     "data": {
      "text/plain": [
       "<Axes: xlabel='Region', ylabel='count_of_sales'>"
      ]
     },
     "execution_count": 193,
     "metadata": {},
     "output_type": "execute_result"
    },
    {
     "data": {
      "image/png": "[encoded data removed]",
      "text/plain": [
       "<Figure size 2000x1000 with 1 Axes>"
      ]
     },
     "metadata": {},
     "output_type": "display_data"
    }
   ],
   "source": [
    "sns.barplot(data = df_sales_group.groupby(['Region', 'Sales_group']).agg({'ID': 'count'}).sort_values('ID').rename(columns = {'ID': 'count_of_sales'}), x = 'Region', y = 'count_of_sales', hue = 'Sales_group', estimator = 'sum')"
   ]
  },
  {
   "cell_type": "markdown",
   "metadata": {},
   "source": [
    "Задание 3\n",
    "Суммарно больше всего продаж в Калининграде, меньше всего в Москве. В Москве в большинестве преобладают высокие продажи, в Урале маленькие, во Владивостоке высокие, в Калининграде средние. Необходимо более детально проанализировать продажми в Москве и Калининграде, т.к. непонятно почему в самом большом среди групп по населению городе меньше всех продаж и наоборот в случае с Калининградом.\n"
   ]
  }
 ],
 "metadata": {
  "kernelspec": {
   "display_name": "Python 3",
   "language": "python",
   "name": "python3"
  },
  "language_info": {
   "codemirror_mode": {
    "name": "ipython",
    "version": 3
   },
   "file_extension": ".py",
   "mimetype": "text/x-python",
   "name": "python",
   "nbconvert_exporter": "python",
   "pygments_lexer": "ipython3",
   "version": "3.12.2"
  }
 },
 "nbformat": 4,
 "nbformat_minor": 2
}
